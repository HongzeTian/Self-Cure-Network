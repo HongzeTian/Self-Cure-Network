{
 "cells": [
  {
   "cell_type": "code",
   "execution_count": 1,
   "metadata": {
    "scrolled": true
   },
   "outputs": [],
   "source": [
    "import os, cv2\n",
    "import numpy as np\n",
    "import onnxruntime as ort\n",
    "from torchvision import transforms\n",
    "import numpy as np\n",
    "from pathlib import Path\n",
    "from fastai.vision.all import get_image_files\n",
    "\n",
    "emotion7_list = [\"surprise\",\"fear\",\"disgust\",\"happy\",\"sad\",\"angry\",\"neutral\"]\n",
    "inf7_list = [\"surprise\",\"fear\",\"disgust\",\"happy\",\"sad\",\"angry\",\"neutral\"]\n",
    "\n",
    "#0: Surprise\n",
    "#1: Fear\n",
    "#2: Disgust\n",
    "#3: Happiness\n",
    "#4: Sadness\n",
    "#5: Anger\n",
    "#6: Neutral\n"
   ]
  },
  {
   "cell_type": "code",
   "execution_count": 2,
   "metadata": {
    "scrolled": true
   },
   "outputs": [
    {
     "name": "stdout",
     "output_type": "stream",
     "text": [
      "1074\n",
      "C:\\Users\\xx\\Desktop\\Workspace\\selfcurenetwork-own\\NTU-Data\\manual-relabel\\angry\\0028b3f1-4d5c-482a-9a78-7bd031f8a8c4_capped.jpg\n"
     ]
    }
   ],
   "source": [
    "# get the img\n",
    "# root_path = Path(r\"C:\\Users\\xx\\Desktop\\Workspace\\selfcurenetwork-own\\RAF-DB\\Image\\cleaned\")\n",
    "root_path = Path(r\"C:\\Users\\xx\\Desktop\\Workspace\\selfcurenetwork-own\\NTU-Data\\manual-relabel\")\n",
    "\n",
    "filenames = get_image_files(root_path)\n",
    "print(len(filenames))\n",
    "print(filenames[0])\n"
   ]
  },
  {
   "cell_type": "markdown",
   "metadata": {},
   "source": [
    "#### For onnx model inference"
   ]
  },
  {
   "cell_type": "code",
   "execution_count": 8,
   "metadata": {},
   "outputs": [],
   "source": [
    "data_transforms_val = transforms.Compose([\n",
    "    transforms.ToPILImage(),\n",
    "    transforms.Resize((224, 224)),\n",
    "    transforms.ToTensor(),\n",
    "    transforms.Normalize(mean=[0.485, 0.456, 0.406],\n",
    "                         std=[0.229, 0.224, 0.225])])\n",
    "# load model\n",
    "ort_session = ort.InferenceSession(\"emotion_recognition.onnx\")\n",
    "\n",
    "preds = []\n",
    "targs = []\n",
    "\n",
    "for i, filename in enumerate(filenames):\n",
    "    \n",
    "    face_image = cv2.imread(str(filename))\n",
    "    face_image = data_transforms_val(face_image)\n",
    "    face_image = np.expand_dims(face_image, axis=0)\n",
    "\n",
    "    # inference\n",
    "    ort_inputs = {ort_session.get_inputs()[0].name: face_image}\n",
    "    \n",
    "    # get output\n",
    "    ort_outs = ort_session.run(None, ort_inputs)\n",
    "\n",
    "    pred = int(np.argmax(ort_outs[1]))\n",
    "    \n",
    "    target = emotion7_list.index(filename.parent.name)\n",
    "    \n",
    "    preds.append(pred)\n",
    "    targs.append(target)"
   ]
  },
  {
   "cell_type": "code",
   "execution_count": 9,
   "metadata": {},
   "outputs": [
    {
     "name": "stdout",
     "output_type": "stream",
     "text": [
      "Confusion matrix, without normalization\n",
      "[[ 82   1   2   4   0   0   9]\n",
      " [ 15  68   2   1   5   6   0]\n",
      " [  2  59  13   0  31  23   0]\n",
      " [  5  11   3 322   6   2   9]\n",
      " [  2   2   5   2  69   0  30]\n",
      " [ 18  16  14   5   9  59   5]\n",
      " [ 18   2   6  12  27   4  88]]\n"
     ]
    },
    {
     "data": {
      "image/png": "[encoded data removed]",
      "text/plain": [
       "<Figure size 432x288 with 2 Axes>"
      ]
     },
     "metadata": {
      "needs_background": "light"
     },
     "output_type": "display_data"
    },
    {
     "name": "stdout",
     "output_type": "stream",
     "text": [
      "              precision    recall  f1-score   support\n",
      "\n",
      "    surprise       0.58      0.84      0.68        98\n",
      "        fear       0.43      0.70      0.53        97\n",
      "     disgust       0.29      0.10      0.15       128\n",
      "       happy       0.93      0.90      0.91       358\n",
      "         sad       0.47      0.63      0.54       110\n",
      "       angry       0.63      0.47      0.54       126\n",
      "     neutral       0.62      0.56      0.59       157\n",
      "\n",
      "    accuracy                           0.65      1074\n",
      "   macro avg       0.56      0.60      0.56      1074\n",
      "weighted avg       0.65      0.65      0.64      1074\n",
      "\n"
     ]
    }
   ],
   "source": [
    "from sklearn.metrics import confusion_matrix\n",
    "import matplotlib.pyplot as plt\n",
    "import itertools\n",
    "\n",
    "\n",
    "cm = confusion_matrix(targs, preds)\n",
    "\n",
    "def plot_confusion_matrix(cm, classes, normalize=False, title='Confusion matrix', cmap=plt.cm.Blues):\n",
    "    if normalize:\n",
    "        cm = cm.astype('float') / cm.sum(axis=1)[:, np.newaxis]\n",
    "        print(\"Normalized confusion matrix\")\n",
    "    else:\n",
    "        print('Confusion matrix, without normalization')\n",
    "\n",
    "    print(cm)\n",
    "    plt.imshow(cm, interpolation='nearest', cmap=cmap)\n",
    "    plt.title(title)\n",
    "    plt.colorbar()\n",
    "    tick_marks = np.arange(len(classes))\n",
    "    plt.xticks(tick_marks, classes, rotation=45)\n",
    "    plt.yticks(tick_marks, classes)\n",
    "\n",
    "    fmt = '.2f' if normalize else 'd'\n",
    "    thresh = cm.max() / 2.\n",
    "    for i, j in itertools.product(range(cm.shape[0]), range(cm.shape[1])):\n",
    "        plt.text(j, i, format(cm[i, j], fmt), horizontalalignment=\"center\", color=\"white\" if cm[i, j] > thresh else \"black\")\n",
    "\n",
    "    plt.tight_layout()\n",
    "    plt.ylabel('True label')\n",
    "    plt.xlabel('Predicted label')\n",
    "    plt.show()\n",
    "\n",
    "plot_confusion_matrix(cm, emotion7_list)\n",
    "\n",
    "from sklearn.metrics import classification_report\n",
    "\n",
    "print(classification_report(targs, preds, target_names=emotion7_list))"
   ]
  },
  {
   "cell_type": "markdown",
   "metadata": {},
   "source": [
    "#### For pytorch model inference"
   ]
  },
  {
   "cell_type": "code",
   "execution_count": 11,
   "metadata": {},
   "outputs": [],
   "source": [
    "import torch\n",
    "import torch.nn as nn\n",
    "import torchvision.models as models\n",
    "\n",
    "class Res18Feature(nn.Module):\n",
    "    def __init__(self, pretrained, num_classes = 7):\n",
    "        super(Res18Feature, self).__init__()\n",
    "        resnet  = models.resnet18(pretrained)\n",
    "        # self.feature = nn.Sequential(*list(resnet.children())[:-2]) # before avgpool\n",
    "        self.features = nn.Sequential(*list(resnet.children())[:-1]) # after avgpool 512x1\n",
    "\n",
    "        fc_in_dim = list(resnet.children())[-1].in_features # original fc layer's in dimention 512\n",
    "\n",
    "        self.fc = nn.Linear(fc_in_dim, num_classes) # new fc layer 512x7\n",
    "        self.alpha = nn.Sequential(nn.Linear(fc_in_dim, 1),nn.Sigmoid())\n",
    "\n",
    "    def forward(self, x):\n",
    "        x = self.features(x)\n",
    "\n",
    "        x = x.view(x.size(0), -1)\n",
    "\n",
    "        attention_weights = self.alpha(x)\n",
    "        out = attention_weights * self.fc(x)\n",
    "        return attention_weights, out"
   ]
  },
  {
   "cell_type": "code",
   "execution_count": 4,
   "metadata": {},
   "outputs": [
    {
     "name": "stdout",
     "output_type": "stream",
     "text": [
      "model loaded\n"
     ]
    }
   ],
   "source": [
    "from pathlib import Path\n",
    "\n",
    "model_save_path = Path(r\"C:\\Users\\xx\\Desktop\\Workspace\\yoozoo-selfcurenetwork\\checkpoints\\epoch_41_acc_0.8730999827384949.pth\")\n",
    "res18 = Res18Feature(pretrained = False)\n",
    "checkpoint = torch.load(model_save_path)\n",
    "res18.load_state_dict(checkpoint['model_state_dict'])\n",
    "res18.cuda()\n",
    "res18.eval()\n",
    "print(\"model loaded\")"
   ]
  },
  {
   "cell_type": "code",
   "execution_count": 13,
   "metadata": {},
   "outputs": [],
   "source": [
    "from pathlib import Path\n",
    "ROOT = Path(r\"C:\\Users\\xx\\Desktop\\Workspace\\selfcurenetwork-own\\NTU-Data\\manual-relabel\")\n",
    "# str(ROOT)\n",
    "import torchvision\n",
    "from torchvision import transforms\n",
    "\n",
    "data_transforms = transforms.Compose([\n",
    "    transforms.Resize((224, 224)),\n",
    "    transforms.ToTensor(),\n",
    "    transforms.Normalize(mean=[0.485, 0.456, 0.406],\n",
    "                         std=[0.229, 0.224, 0.225])])\n",
    "\n",
    "ntu_ds = torchvision.datasets.ImageFolder(str(ROOT), transform=data_transforms)\n",
    "ntu_dl = torch.utils.data.DataLoader(ntu_ds,\n",
    "                                         batch_size = 32,\n",
    "                                         num_workers = 0,\n",
    "                                         shuffle = False,\n",
    "                                         pin_memory = True)"
   ]
  },
  {
   "cell_type": "code",
   "execution_count": 14,
   "metadata": {},
   "outputs": [
    {
     "name": "stdout",
     "output_type": "stream",
     "text": [
      "Confusion matrix, without normalization\n",
      "[[  0   0   0   0   0 126   0]\n",
      " [  0   0   0   0   0 128   0]\n",
      " [  0   0   0   0   0  97   0]\n",
      " [  0   0   0   0   0 358   0]\n",
      " [  0   0   0   0   0 157   0]\n",
      " [  0   0   0   0   0 110   0]\n",
      " [  0   0   0   0   0  98   0]]\n"
     ]
    },
    {
     "data": {
      "image/png": "[encoded data removed]",
      "text/plain": [
       "<Figure size 432x288 with 2 Axes>"
      ]
     },
     "metadata": {
      "needs_background": "light"
     },
     "output_type": "display_data"
    },
    {
     "name": "stdout",
     "output_type": "stream",
     "text": [
      "              precision    recall  f1-score   support\n",
      "\n",
      "    surprise       0.00      0.00      0.00       126\n",
      "        fear       0.00      0.00      0.00       128\n",
      "     disgust       0.00      0.00      0.00        97\n",
      "       happy       0.00      0.00      0.00       358\n",
      "         sad       0.00      0.00      0.00       157\n",
      "       angry       0.10      1.00      0.19       110\n",
      "     neutral       0.00      0.00      0.00        98\n",
      "\n",
      "    accuracy                           0.10      1074\n",
      "   macro avg       0.01      0.14      0.03      1074\n",
      "weighted avg       0.01      0.10      0.02      1074\n",
      "\n"
     ]
    },
    {
     "name": "stderr",
     "output_type": "stream",
     "text": [
      "C:\\Users\\xx\\miniconda3\\envs\\fastai\\lib\\site-packages\\sklearn\\metrics\\_classification.py:1221: UndefinedMetricWarning: Precision and F-score are ill-defined and being set to 0.0 in labels with no predicted samples. Use `zero_division` parameter to control this behavior.\n",
      "  _warn_prf(average, modifier, msg_start, len(result))\n"
     ]
    }
   ],
   "source": [
    "preds = []\n",
    "targs = []\n",
    "\n",
    "for batch_i, (imgs, targets) in enumerate(ntu_dl):\n",
    "\n",
    "    _, outputs = res18(imgs.cuda())\n",
    "    _, predicts = torch.max(outputs, 1)\n",
    "    targets = targets.cuda()\n",
    "    \n",
    "    predicts, targets = predicts.tolist(), targets.tolist()\n",
    "    preds.extend(predicts)\n",
    "    targs.extend(targets)\n",
    "    \n",
    "from sklearn.metrics import confusion_matrix\n",
    "import matplotlib.pyplot as plt\n",
    "import itertools\n",
    "\n",
    "\n",
    "cm = confusion_matrix(targs, preds)\n",
    "\n",
    "def plot_confusion_matrix(cm, classes, normalize=False, title='Confusion matrix', cmap=plt.cm.Blues):\n",
    "    if normalize:\n",
    "        cm = cm.astype('float') / cm.sum(axis=1)[:, np.newaxis]\n",
    "        print(\"Normalized confusion matrix\")\n",
    "    else:\n",
    "        print('Confusion matrix, without normalization')\n",
    "\n",
    "    print(cm)\n",
    "    plt.imshow(cm, interpolation='nearest', cmap=cmap)\n",
    "    plt.title(title)\n",
    "    plt.colorbar()\n",
    "    tick_marks = np.arange(len(classes))\n",
    "    plt.xticks(tick_marks, classes, rotation=45)\n",
    "    plt.yticks(tick_marks, classes)\n",
    "\n",
    "    fmt = '.2f' if normalize else 'd'\n",
    "    thresh = cm.max() / 2.\n",
    "    for i, j in itertools.product(range(cm.shape[0]), range(cm.shape[1])):\n",
    "        plt.text(j, i, format(cm[i, j], fmt), horizontalalignment=\"center\", color=\"white\" if cm[i, j] > thresh else \"black\")\n",
    "\n",
    "    plt.tight_layout()\n",
    "    plt.ylabel('True label')\n",
    "    plt.xlabel('Predicted label')\n",
    "    plt.show()\n",
    "\n",
    "plot_confusion_matrix(cm, emotion7_list)\n",
    "\n",
    "from sklearn.metrics import classification_report\n",
    "\n",
    "print(classification_report(targs, preds, target_names=emotion7_list))"
   ]
  },
  {
   "cell_type": "code",
   "execution_count": null,
   "metadata": {},
   "outputs": [],
   "source": []
  }
 ],
 "metadata": {
  "kernelspec": {
   "display_name": "Python 3",
   "language": "python",
   "name": "python3"
  },
  "language_info": {
   "codemirror_mode": {
    "name": "ipython",
    "version": 3
   },
   "file_extension": ".py",
   "mimetype": "text/x-python",
   "name": "python",
   "nbconvert_exporter": "python",
   "pygments_lexer": "ipython3",
   "version": "3.8.5"
  }
 },
 "nbformat": 4,
 "nbformat_minor": 2
}
