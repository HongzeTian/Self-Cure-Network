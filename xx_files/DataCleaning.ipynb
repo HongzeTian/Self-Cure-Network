{
 "cells": [
  {
   "cell_type": "code",
   "execution_count": 1,
   "metadata": {},
   "outputs": [],
   "source": [
    "import os\n",
    "from pathlib import Path\n"
   ]
  },
  {
   "cell_type": "code",
   "execution_count": 8,
   "metadata": {},
   "outputs": [
    {
     "name": "stdout",
     "output_type": "stream",
     "text": [
      "<DirEntry 'angry'>\n",
      "<DirEntry 'disgust'>\n",
      "<DirEntry 'fear'>\n",
      "<DirEntry 'happy'>\n",
      "<DirEntry 'neutral'>\n",
      "<DirEntry 'sad'>\n",
      "<DirEntry 'surprise'>\n",
      "<DirEntry 'undetected'>\n"
     ]
    }
   ],
   "source": [
    "# 0a43caca-ddb9-4041-8954-213dfbeb1150_capped.jpg\n",
    "\n",
    "# delete all images that are \"...origin.jpg\"\n",
    "folder_path = Path(r'C:\\Users\\xx\\Desktop\\Workspace\\selfcurenetwork-own\\test\\face')\n",
    "\n",
    "for folder_name in os.scandir(folder_path):\n",
    "    print(folder_name)\n",
    "    for filename in os.listdir(folder_name):\n",
    "        if filename.endswith(\"origin.jpg\"):\n",
    "            os.remove(os.path.join(folder_path, folder_name ,filename))\n",
    "        "
   ]
  },
  {
   "cell_type": "markdown",
   "metadata": {},
   "source": [
    "### Relabelling"
   ]
  },
  {
   "cell_type": "code",
   "execution_count": 5,
   "metadata": {},
   "outputs": [
    {
     "data": {
      "application/vnd.jupyter.widget-view+json": {
       "model_id": "448ec3c2a8c14febbc1f7ecfe508f3e6",
       "version_major": 2,
       "version_minor": 0
      },
      "text/plain": [
       "HTML(value='0 of 3164 Examples annotated, Current Position: 0 ')"
      ]
     },
     "metadata": {},
     "output_type": "display_data"
    },
    {
     "data": {
      "application/vnd.jupyter.widget-view+json": {
       "model_id": "e4d147c2632d40beae4a3e8e16ad3408",
       "version_major": 2,
       "version_minor": 0
      },
      "text/plain": [
       "VBox(children=(HBox(children=(Button(description='surprise', style=ButtonStyle()), Button(description='fear', …"
      ]
     },
     "metadata": {},
     "output_type": "display_data"
    },
    {
     "data": {
      "application/vnd.jupyter.widget-view+json": {
       "model_id": "356c3c35be8f415ca587f278e4b2071c",
       "version_major": 2,
       "version_minor": 0
      },
      "text/plain": [
       "Output()"
      ]
     },
     "metadata": {},
     "output_type": "display_data"
    }
   ],
   "source": [
    "from pigeonXT import annotate\n",
    "from IPython.display import display, Image\n",
    "from fastai.vision.all import get_image_files\n",
    "from pathlib import Path\n",
    "\n",
    "\n",
    "image_filenames = get_image_files(Path(r\"C:\\Users\\xx\\Desktop\\Workspace\\selfcurenetwork-own\\NTU-Data\\data\"), folders=\"sad\")\n",
    "emotions = \"surprise, fear, disgust, happy, sad, angry, neutral\".split(\", \")\n",
    "def display_fn(filename):\n",
    "    print(f\"Original label - {filename.parent.name}\")\n",
    "    display(Image(filename))\n",
    "annotations = annotate(image_filenames,\n",
    "options=emotions, display_fn=display_fn, shuffle=True, include_back=True)"
   ]
  },
  {
   "cell_type": "code",
   "execution_count": 7,
   "metadata": {
    "scrolled": true
   },
   "outputs": [
    {
     "data": {
      "text/plain": [
       "12"
      ]
     },
     "execution_count": 7,
     "metadata": {},
     "output_type": "execute_result"
    }
   ],
   "source": [
    "len(annotations)"
   ]
  },
  {
   "cell_type": "code",
   "execution_count": 8,
   "metadata": {
    "collapsed": true
   },
   "outputs": [
    {
     "data": {
      "text/plain": [
       "{'C:\\\\Users\\\\xx\\\\Desktop\\\\Workspace\\\\selfcurenetwork-own\\\\NTU-Data\\\\data\\\\sad\\\\38a9f250-cf0b-44cf-ad0e-74f288b491c4_capped.jpg': 'sad',\n",
       " 'C:\\\\Users\\\\xx\\\\Desktop\\\\Workspace\\\\selfcurenetwork-own\\\\NTU-Data\\\\data\\\\sad\\\\631d3f66-c800-4d7b-8485-32c404afe33e_capped.jpg': 'sad',\n",
       " 'C:\\\\Users\\\\xx\\\\Desktop\\\\Workspace\\\\selfcurenetwork-own\\\\NTU-Data\\\\data\\\\sad\\\\aae9ed1f-32f4-4e69-98f6-0e8028fd2931_capped.jpg': 'sad',\n",
       " 'C:\\\\Users\\\\xx\\\\Desktop\\\\Workspace\\\\selfcurenetwork-own\\\\NTU-Data\\\\data\\\\sad\\\\1d6abcea-ffae-4556-ab23-412432818e3d_capped.jpg': 'sad',\n",
       " 'C:\\\\Users\\\\xx\\\\Desktop\\\\Workspace\\\\selfcurenetwork-own\\\\NTU-Data\\\\data\\\\sad\\\\1bf4bcc5-ff9a-46f0-bf6d-6fc8ffeba437_capped.jpg': 'sad',\n",
       " 'C:\\\\Users\\\\xx\\\\Desktop\\\\Workspace\\\\selfcurenetwork-own\\\\NTU-Data\\\\data\\\\sad\\\\7a21fbc4-f780-4c73-abcb-01b74782313b_capped.jpg': 'sad',\n",
       " 'C:\\\\Users\\\\xx\\\\Desktop\\\\Workspace\\\\selfcurenetwork-own\\\\NTU-Data\\\\data\\\\sad\\\\ceae2116-5c41-4e64-a572-f2b4fe616a31_capped.jpg': 'sad',\n",
       " 'C:\\\\Users\\\\xx\\\\Desktop\\\\Workspace\\\\selfcurenetwork-own\\\\NTU-Data\\\\data\\\\sad\\\\97bdc9e9-ed18-485a-bdeb-ee76dcbb3410_capped.jpg': 'sad',\n",
       " 'C:\\\\Users\\\\xx\\\\Desktop\\\\Workspace\\\\selfcurenetwork-own\\\\NTU-Data\\\\data\\\\sad\\\\5d0ea806-d84a-4607-9e6b-cf8688078d6d_capped.jpg': 'sad',\n",
       " 'C:\\\\Users\\\\xx\\\\Desktop\\\\Workspace\\\\selfcurenetwork-own\\\\NTU-Data\\\\data\\\\sad\\\\b93a68d2-7edc-4edf-9d0a-97adb6064f86_capped.jpg': 'sad',\n",
       " 'C:\\\\Users\\\\xx\\\\Desktop\\\\Workspace\\\\selfcurenetwork-own\\\\NTU-Data\\\\data\\\\sad\\\\ca18e72b-31cb-4f83-875b-c6c0dbe54fd9_capped.jpg': 'sad',\n",
       " 'C:\\\\Users\\\\xx\\\\Desktop\\\\Workspace\\\\selfcurenetwork-own\\\\NTU-Data\\\\data\\\\sad\\\\32c5707d-a8c2-4966-8db6-926713509bb4_capped.jpg': 'sad'}"
      ]
     },
     "execution_count": 8,
     "metadata": {},
     "output_type": "execute_result"
    }
   ],
   "source": [
    "anno_str = {}\n",
    "for key, value in annotations.items():\n",
    "    anno_str[str(key)] = value\n",
    "anno_str"
   ]
  },
  {
   "cell_type": "code",
   "execution_count": null,
   "metadata": {},
   "outputs": [],
   "source": [
    "# master_dict = {}"
   ]
  },
  {
   "cell_type": "code",
   "execution_count": 16,
   "metadata": {
    "collapsed": true
   },
   "outputs": [
    {
     "data": {
      "text/plain": [
       "{'C:\\\\Users\\\\xx\\\\Desktop\\\\Workspace\\\\selfcurenetwork-own\\\\NTU-Data\\\\data\\\\sad\\\\38a9f250-cf0b-44cf-ad0e-74f288b491c4_capped.jpg': 'sad',\n",
       " 'C:\\\\Users\\\\xx\\\\Desktop\\\\Workspace\\\\selfcurenetwork-own\\\\NTU-Data\\\\data\\\\sad\\\\631d3f66-c800-4d7b-8485-32c404afe33e_capped.jpg': 'sad',\n",
       " 'C:\\\\Users\\\\xx\\\\Desktop\\\\Workspace\\\\selfcurenetwork-own\\\\NTU-Data\\\\data\\\\sad\\\\aae9ed1f-32f4-4e69-98f6-0e8028fd2931_capped.jpg': 'sad',\n",
       " 'C:\\\\Users\\\\xx\\\\Desktop\\\\Workspace\\\\selfcurenetwork-own\\\\NTU-Data\\\\data\\\\sad\\\\1d6abcea-ffae-4556-ab23-412432818e3d_capped.jpg': 'sad',\n",
       " 'C:\\\\Users\\\\xx\\\\Desktop\\\\Workspace\\\\selfcurenetwork-own\\\\NTU-Data\\\\data\\\\sad\\\\1bf4bcc5-ff9a-46f0-bf6d-6fc8ffeba437_capped.jpg': 'sad',\n",
       " 'C:\\\\Users\\\\xx\\\\Desktop\\\\Workspace\\\\selfcurenetwork-own\\\\NTU-Data\\\\data\\\\sad\\\\7a21fbc4-f780-4c73-abcb-01b74782313b_capped.jpg': 'sad',\n",
       " 'C:\\\\Users\\\\xx\\\\Desktop\\\\Workspace\\\\selfcurenetwork-own\\\\NTU-Data\\\\data\\\\sad\\\\ceae2116-5c41-4e64-a572-f2b4fe616a31_capped.jpg': 'sad',\n",
       " 'C:\\\\Users\\\\xx\\\\Desktop\\\\Workspace\\\\selfcurenetwork-own\\\\NTU-Data\\\\data\\\\sad\\\\97bdc9e9-ed18-485a-bdeb-ee76dcbb3410_capped.jpg': 'sad',\n",
       " 'C:\\\\Users\\\\xx\\\\Desktop\\\\Workspace\\\\selfcurenetwork-own\\\\NTU-Data\\\\data\\\\sad\\\\5d0ea806-d84a-4607-9e6b-cf8688078d6d_capped.jpg': 'sad',\n",
       " 'C:\\\\Users\\\\xx\\\\Desktop\\\\Workspace\\\\selfcurenetwork-own\\\\NTU-Data\\\\data\\\\sad\\\\b93a68d2-7edc-4edf-9d0a-97adb6064f86_capped.jpg': 'sad',\n",
       " 'C:\\\\Users\\\\xx\\\\Desktop\\\\Workspace\\\\selfcurenetwork-own\\\\NTU-Data\\\\data\\\\sad\\\\ca18e72b-31cb-4f83-875b-c6c0dbe54fd9_capped.jpg': 'sad',\n",
       " 'C:\\\\Users\\\\xx\\\\Desktop\\\\Workspace\\\\selfcurenetwork-own\\\\NTU-Data\\\\data\\\\sad\\\\32c5707d-a8c2-4966-8db6-926713509bb4_capped.jpg': 'sad'}"
      ]
     },
     "execution_count": 16,
     "metadata": {},
     "output_type": "execute_result"
    }
   ],
   "source": [
    "master_dict={**master_dict, **anno_str}\n",
    "master_dict"
   ]
  },
  {
   "cell_type": "code",
   "execution_count": 13,
   "metadata": {},
   "outputs": [
    {
     "data": {
      "text/plain": [
       "0"
      ]
     },
     "execution_count": 13,
     "metadata": {},
     "output_type": "execute_result"
    }
   ],
   "source": [
    "len(master_dict)"
   ]
  },
  {
   "cell_type": "code",
   "execution_count": 15,
   "metadata": {},
   "outputs": [
    {
     "data": {
      "text/plain": [
       "{}"
      ]
     },
     "execution_count": 15,
     "metadata": {},
     "output_type": "execute_result"
    }
   ],
   "source": [
    "# Save json\n",
    "import json\n",
    "with open(\"anno.json\", \"w\") as outfile:  \n",
    "    json.dump(master_dict, outfile) "
   ]
  },
  {
   "cell_type": "code",
   "execution_count": 84,
   "metadata": {
    "collapsed": true
   },
   "outputs": [
    {
     "data": {
      "text/plain": [
       "emotion   emotion \n",
       "angry     angry       128\n",
       "disgust   disgust     139\n",
       "fear      fear        117\n",
       "happy     happy       380\n",
       "neutral   neutral     165\n",
       "sad       sad         156\n",
       "surprise  surprise    105\n",
       "Name: emotion, dtype: int64"
      ]
     },
     "execution_count": 84,
     "metadata": {},
     "output_type": "execute_result"
    }
   ],
   "source": [
    "# Load json and analyze\n",
    "import pandas as pd\n",
    "\n",
    "with open('anno.json') as json_file:\n",
    "    data = json.load(json_file)\n",
    "    df = pd.DataFrame.from_dict(data, orient=\"index\", columns=[\"emotion\"])\n",
    "df = df.reset_index()\n",
    "df.groupby([\"emotion\"]).emotion.value_counts()"
   ]
  },
  {
   "cell_type": "code",
   "execution_count": 17,
   "metadata": {},
   "outputs": [],
   "source": [
    "folder = Path(r\"C:\\Users\\xx\\Desktop\\Workspace\\selfcurenetwork-own\\NTU-Data\\manual-relabel\")"
   ]
  },
  {
   "cell_type": "code",
   "execution_count": 18,
   "metadata": {},
   "outputs": [],
   "source": [
    "# Copy cleaned files into new folder\n",
    "import shutil\n",
    "copy_dict = master_dict.copy()\n",
    "for key,value in copy_dict.items():\n",
    "    src = Path(key)\n",
    "    if not src.exists():\n",
    "        master_dict.pop(key)\n",
    "        continue\n",
    "    dest_folder = folder/value\n",
    "    dest_folder.mkdir(parents=True, exist_ok=True)\n",
    "\n",
    "    shutil.copy(src, dest_folder/src.name)"
   ]
  },
  {
   "cell_type": "markdown",
   "metadata": {},
   "source": [
    "### Remove duplicate images recursively"
   ]
  },
  {
   "cell_type": "code",
   "execution_count": 2,
   "metadata": {},
   "outputs": [],
   "source": [
    "from PIL import Image\n",
    "import imagehash\n",
    "\n",
    "image_fns = get_image_files(Path(r\"C:\\Users\\xx\\Desktop\\Workspace\\selfcurenetwork-own\\NTU-Data\\manual-relabel\\sad\"))\n"
   ]
  },
  {
   "cell_type": "code",
   "execution_count": 3,
   "metadata": {
    "scrolled": true
   },
   "outputs": [],
   "source": [
    "img_hashes = {}\n",
    "\n",
    "count = 0\n",
    "for image_fn in sorted(image_fns):\n",
    "    hash = imagehash.average_hash(Image.open(image_fn))\n",
    "    if hash in img_hashes:\n",
    "        print( '{} duplicate of {}'.format(image_fn, img_hashes[hash]) )\n",
    "        count += 1\n",
    "        image_fn.unlink()\n",
    "    else:\n",
    "        img_hashes[hash] = image_fn"
   ]
  },
  {
   "cell_type": "code",
   "execution_count": 4,
   "metadata": {},
   "outputs": [
    {
     "data": {
      "text/plain": [
       "0"
      ]
     },
     "execution_count": 4,
     "metadata": {},
     "output_type": "execute_result"
    }
   ],
   "source": [
    "count"
   ]
  }
 ],
 "metadata": {
  "kernelspec": {
   "display_name": "Python 3",
   "language": "python",
   "name": "python3"
  },
  "language_info": {
   "codemirror_mode": {
    "name": "ipython",
    "version": 3
   },
   "file_extension": ".py",
   "mimetype": "text/x-python",
   "name": "python",
   "nbconvert_exporter": "python",
   "pygments_lexer": "ipython3",
   "version": "3.8.5"
  }
 },
 "nbformat": 4,
 "nbformat_minor": 2
}
