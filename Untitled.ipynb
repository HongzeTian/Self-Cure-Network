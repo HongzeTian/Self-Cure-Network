{
 "cells": [
  {
   "cell_type": "code",
   "execution_count": 1,
   "metadata": {},
   "outputs": [],
   "source": [
    "f = open(r'D:\\thz\\data\\RAF-DB\\EmoLabel\\combined_Tqinghua.txt', 'r')"
   ]
  },
  {
   "cell_type": "code",
   "execution_count": 2,
   "metadata": {},
   "outputs": [],
   "source": [
    "labels = {}\n",
    "names = {}\n",
    "totle = 0\n",
    "for line in f.readlines():\n",
    "    l = line.split(' ')[1].strip()\n",
    "    name = line.split(' ')[0]\n",
    "    if l in labels.keys():\n",
    "        labels[l] += 1\n",
    "        names[l].append(name)\n",
    "    else:\n",
    "        labels[l] = 1\n",
    "        names[l] = []\n",
    "    totle += 1"
   ]
  },
  {
   "cell_type": "code",
   "execution_count": 3,
   "metadata": {},
   "outputs": [
    {
     "data": {
      "text/plain": [
       "{'5': 2664, '4': 6159, '1': 1811, '6': 1067, '2': 547, '3': 1079, '7': 3412}"
      ]
     },
     "execution_count": 3,
     "metadata": {},
     "output_type": "execute_result"
    }
   ],
   "source": [
    "labels"
   ]
  },
  {
   "cell_type": "code",
   "execution_count": 4,
   "metadata": {},
   "outputs": [],
   "source": [
    "import random\n",
    "new_names = {}\n",
    "left_labels = {'1':'1', '4':'2', '5':'3', '7':'4'}\n",
    "max_num = 2664\n",
    "for key, items in names.items():\n",
    "    random.shuffle(items)\n",
    "    if key in left_labels.keys():\n",
    "        if len(items) < max_num:\n",
    "            new_names[left_labels[key]] = items\n",
    "        else:\n",
    "            new_names[left_labels[key]] = items[:max_num]"
   ]
  },
  {
   "cell_type": "code",
   "execution_count": 5,
   "metadata": {},
   "outputs": [
    {
     "name": "stdout",
     "output_type": "stream",
     "text": [
      "2663\n",
      "2664\n",
      "1810\n",
      "2664\n"
     ]
    }
   ],
   "source": [
    "with open(r'D:\\thz\\data\\RAF-DB\\EmoLabel\\list_patition_label_balanced.txt', 'w') as f:\n",
    "    for key, items in new_names.items():\n",
    "        print(len(items))\n",
    "        for item in items:\n",
    "            f.write(item + ' ' + key + '\\n')"
   ]
  },
  {
   "cell_type": "code",
   "execution_count": null,
   "metadata": {},
   "outputs": [],
   "source": []
  }
 ],
 "metadata": {
  "kernelspec": {
   "display_name": "Python 3",
   "language": "python",
   "name": "python3"
  },
  "language_info": {
   "codemirror_mode": {
    "name": "ipython",
    "version": 3
   },
   "file_extension": ".py",
   "mimetype": "text/x-python",
   "name": "python",
   "nbconvert_exporter": "python",
   "pygments_lexer": "ipython3",
   "version": "3.7.4"
  }
 },
 "nbformat": 4,
 "nbformat_minor": 2
}
