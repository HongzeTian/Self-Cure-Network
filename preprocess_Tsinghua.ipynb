{
 "cells": [
  {
   "cell_type": "markdown",
   "metadata": {},
   "source": [
    "# Face aligned"
   ]
  },
  {
   "cell_type": "code",
   "execution_count": 3,
   "metadata": {},
   "outputs": [],
   "source": [
    "import cv2\n",
    "import os"
   ]
  },
  {
   "cell_type": "code",
   "execution_count": 2,
   "metadata": {},
   "outputs": [],
   "source": [
    "face_cascade = cv2.CascadeClassifier('haarcascade_frontalface_default.xml')"
   ]
  },
  {
   "cell_type": "code",
   "execution_count": 4,
   "metadata": {},
   "outputs": [],
   "source": [
    "src_dir = r'D:\\thz\\data\\Tsinghua FED images\\Tsinghua FED images'\n",
    "dst_dir = r'D:\\thz\\data\\Tsinghua FED images\\aligned'"
   ]
  },
  {
   "cell_type": "code",
   "execution_count": 7,
   "metadata": {},
   "outputs": [],
   "source": [
    "for name in os.listdir(src_dir):\n",
    "    if name.endswith('jpg'):\n",
    "        img = cv2.imread(os.path.join(src_dir, name))\n",
    "        gray = cv2.cvtColor(img, cv2.COLOR_BGR2GRAY)\n",
    "        faces = face_cascade.detectMultiScale(gray, 1.1, 4)\n",
    "        for (x, y, w, h) in faces:\n",
    "            face = img[y:y+h, x:x+w, :]\n",
    "            cv2.imwrite(os.path.join(dst_dir, name), face)"
   ]
  },
  {
   "cell_type": "markdown",
   "metadata": {},
   "source": [
    "# Make the label file"
   ]
  },
  {
   "cell_type": "code",
   "execution_count": 8,
   "metadata": {},
   "outputs": [],
   "source": [
    "src_dir = r'D:\\thz\\data\\RAF-DB\\Image\\combined_Tsinghua'\n",
    "label_dir = r'D:\\thz\\data\\RAF-DB\\EmoLabel'"
   ]
  },
  {
   "cell_type": "code",
   "execution_count": 9,
   "metadata": {},
   "outputs": [],
   "source": [
    "label_dic = {'anger':5, 'disgust':2, 'sad':4, 'surprise':0, 'neutral':6, 'fear':1, 'happy':3}"
   ]
  },
  {
   "cell_type": "code",
   "execution_count": 11,
   "metadata": {},
   "outputs": [],
   "source": [
    "label_file = open(os.path.join(label_dir, 'Tqinghua.txt'), 'w')\n",
    "for name in os.listdir(src_dir):\n",
    "    if 'train' in name or 'test' in name:\n",
    "        continue\n",
    "    try:\n",
    "        label = name.split('.')[0].split('_')[1]\n",
    "    except:\n",
    "        continue\n",
    "    if label in label_dic.keys():\n",
    "        train_txt = 'train_' + name.split('.')[0] + '_aligned.jpg' + ' ' + str(label_dic[label]+1) + '\\n'\n",
    "        test_txt = 'test_' + name.split('.')[0] + '_aligned.jpg' + ' ' + str(label_dic[label]+1) + '\\n'\n",
    "        label_file.write(train_txt)\n",
    "        label_file.write(test_txt)\n",
    "label_file.close()"
   ]
  },
  {
   "cell_type": "markdown",
   "metadata": {},
   "source": [
    "# Rename files"
   ]
  },
  {
   "cell_type": "code",
   "execution_count": 12,
   "metadata": {},
   "outputs": [],
   "source": [
    "src_dir = r'D:\\thz\\data\\Tsinghua FED images\\aligned'\n",
    "for name in os.listdir(src_dir):\n",
    "    img = cv2.imread(os.path.join(src_dir, name))\n",
    "    train = os.path.join(src_dir, 'train_'+ name.split('.')[0] + '_aligned.jpg')\n",
    "    test = os.path.join(src_dir, 'test_'+ name.split('.')[0] + '_aligned.jpg')\n",
    "    cv2.imwrite(train, img)\n",
    "    cv2.imwrite(test, img)"
   ]
  },
  {
   "cell_type": "code",
   "execution_count": null,
   "metadata": {},
   "outputs": [],
   "source": []
  }
 ],
 "metadata": {
  "kernelspec": {
   "display_name": "Python 3",
   "language": "python",
   "name": "python3"
  },
  "language_info": {
   "codemirror_mode": {
    "name": "ipython",
    "version": 3
   },
   "file_extension": ".py",
   "mimetype": "text/x-python",
   "name": "python",
   "nbconvert_exporter": "python",
   "pygments_lexer": "ipython3",
   "version": "3.7.4"
  }
 },
 "nbformat": 4,
 "nbformat_minor": 2
}
